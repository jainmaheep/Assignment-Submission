{
  "nbformat": 4,
  "nbformat_minor": 0,
  "metadata": {
    "colab": {
      "name": "Assignment 1.ipynb",
      "provenance": []
    },
    "kernelspec": {
      "name": "python3",
      "display_name": "Python 3"
    },
    "language_info": {
      "name": "python"
    }
  },
  "cells": [
    {
      "cell_type": "code",
      "execution_count": 1,
      "metadata": {
        "colab": {
          "base_uri": "https://localhost:8080/"
        },
        "id": "oif2aFo4tcGw",
        "outputId": "b7c3f80d-d3bc-431e-a187-43bce9b867f9"
      },
      "outputs": [
        {
          "output_type": "stream",
          "name": "stdout",
          "text": [
            "Enter integer Values:10 22 30 40\n",
            "102\n"
          ]
        }
      ],
      "source": [
        "a=[int (i) for i in input(\"Enter integer Values:\").split()]\n",
        "sum=0\n",
        "for x in a:\n",
        "  sum+=x\n",
        "print(sum)"
      ]
    }
  ]
}